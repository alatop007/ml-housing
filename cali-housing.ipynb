{
  "cells": [
    {
      "cell_type": "code",
      "execution_count": null,
      "metadata": {
        "id": "NKx99__qjuZq",
        "vscode": {
          "languageId": "python"
        }
      },
      "outputs": [],
      "source": [
        "import pandas as pd\n",
        "import numpy as np\n",
        "import matplotlib.pyplot as plt\n",
        "%matplotlib inline"
      ]
    },
    {
      "cell_type": "code",
      "execution_count": null,
      "metadata": {
        "id": "MGImDTQCj9Zs",
        "vscode": {
          "languageId": "python"
        }
      },
      "outputs": [],
      "source": [
        "from sklearn.datasets import fetch_california_housing\n",
        "cali = fetch_california_housing()"
      ]
    },
    {
      "cell_type": "code",
      "execution_count": null,
      "metadata": {
        "colab": {
          "base_uri": "https://localhost:8080/"
        },
        "id": "l0tsTXWVkeKz",
        "outputId": "7a6918d1-90bb-43e4-f2db-99b534b8bada",
        "vscode": {
          "languageId": "python"
        }
      },
      "outputs": [],
      "source": [
        "print(cali.DESCR)"
      ]
    },
    {
      "cell_type": "code",
      "execution_count": null,
      "metadata": {
        "colab": {
          "base_uri": "https://localhost:8080/"
        },
        "id": "FP8SmXlfkd_7",
        "outputId": "30eb9065-3dfe-4207-9782-e4d3201b2ae3",
        "vscode": {
          "languageId": "python"
        }
      },
      "outputs": [],
      "source": [
        "print(cali.data)"
      ]
    },
    {
      "cell_type": "code",
      "execution_count": null,
      "metadata": {
        "colab": {
          "base_uri": "https://localhost:8080/"
        },
        "id": "yXrH8m3ApnsE",
        "outputId": "52de1f71-bc42-4f35-8bee-e7098b4ab192",
        "vscode": {
          "languageId": "python"
        }
      },
      "outputs": [],
      "source": [
        "print(cali.keys())"
      ]
    },
    {
      "cell_type": "code",
      "execution_count": null,
      "metadata": {
        "colab": {
          "base_uri": "https://localhost:8080/"
        },
        "id": "QpV8-dy2pwfs",
        "outputId": "57573b71-9d0f-4637-fbad-8235d4ef2286",
        "vscode": {
          "languageId": "python"
        }
      },
      "outputs": [],
      "source": [
        "print(cali.feature_names)"
      ]
    },
    {
      "cell_type": "code",
      "execution_count": null,
      "metadata": {
        "id": "pII_9lBZqAjb",
        "vscode": {
          "languageId": "python"
        }
      },
      "outputs": [],
      "source": [
        "dataset=pd.DataFrame(cali.data,columns=cali.feature_names)"
      ]
    },
    {
      "cell_type": "code",
      "execution_count": null,
      "metadata": {
        "colab": {
          "base_uri": "https://localhost:8080/",
          "height": 206
        },
        "id": "73HcfzdHqK-g",
        "outputId": "e764440f-7291-4bbc-f3e1-38dca709d930",
        "vscode": {
          "languageId": "python"
        }
      },
      "outputs": [],
      "source": [
        "dataset.head()"
      ]
    },
    {
      "cell_type": "code",
      "execution_count": null,
      "metadata": {
        "id": "aK96Swf4qOQj",
        "vscode": {
          "languageId": "python"
        }
      },
      "outputs": [],
      "source": [
        "dataset['price']=cali.target"
      ]
    },
    {
      "cell_type": "code",
      "execution_count": null,
      "metadata": {
        "colab": {
          "base_uri": "https://localhost:8080/",
          "height": 206
        },
        "id": "6yS48iGZqgVu",
        "outputId": "1188271b-5c0c-4011-8b42-fe231d0224a2",
        "vscode": {
          "languageId": "python"
        }
      },
      "outputs": [],
      "source": [
        "dataset.head()"
      ]
    },
    {
      "cell_type": "code",
      "execution_count": null,
      "metadata": {
        "colab": {
          "base_uri": "https://localhost:8080/"
        },
        "id": "u5MHnhrfqigC",
        "outputId": "3350f1b4-1678-4d95-b254-69487cb8f91c",
        "vscode": {
          "languageId": "python"
        }
      },
      "outputs": [],
      "source": [
        "dataset.info()"
      ]
    },
    {
      "cell_type": "code",
      "execution_count": null,
      "metadata": {
        "colab": {
          "base_uri": "https://localhost:8080/",
          "height": 300
        },
        "id": "SlRmLrj0qoSU",
        "outputId": "bbc60d07-10a7-47c1-e0e6-4e3bdeaaf5a0",
        "vscode": {
          "languageId": "python"
        }
      },
      "outputs": [],
      "source": [
        "dataset.describe()"
      ]
    },
    {
      "cell_type": "code",
      "execution_count": null,
      "metadata": {
        "colab": {
          "base_uri": "https://localhost:8080/"
        },
        "id": "MDS_0urCq-MF",
        "outputId": "5fd1c44c-559e-498b-de78-59146bb5f1f9",
        "vscode": {
          "languageId": "python"
        }
      },
      "outputs": [],
      "source": [
        "dataset.isnull().sum()"
      ]
    },
    {
      "cell_type": "code",
      "execution_count": null,
      "metadata": {
        "colab": {
          "base_uri": "https://localhost:8080/",
          "height": 332
        },
        "id": "UpoLMLgRrTy7",
        "outputId": "cef190a6-efc3-4884-f75c-09ada2aae225",
        "vscode": {
          "languageId": "python"
        }
      },
      "outputs": [],
      "source": [
        "dataset.corr()"
      ]
    },
    {
      "cell_type": "code",
      "execution_count": null,
      "metadata": {
        "colab": {
          "base_uri": "https://localhost:8080/",
          "height": 1000
        },
        "id": "iif6uxMatN_-",
        "outputId": "6d00dafc-e2b5-464c-ea31-87ece218c2f1",
        "vscode": {
          "languageId": "python"
        }
      },
      "outputs": [],
      "source": [
        "import seaborn as sns\n",
        "sns.pairplot(dataset)"
      ]
    },
    {
      "cell_type": "markdown",
      "metadata": {
        "id": "Rex5ZwYbtNXK"
      },
      "source": []
    },
    {
      "cell_type": "code",
      "execution_count": null,
      "metadata": {
        "colab": {
          "base_uri": "https://localhost:8080/",
          "height": 466
        },
        "id": "JDxLr-0Ttywe",
        "outputId": "9eef6ab1-5430-46fc-a80d-30f3b1ef86b3",
        "vscode": {
          "languageId": "python"
        }
      },
      "outputs": [],
      "source": [
        "plt.scatter(dataset['AveRooms'],dataset['price'])\n",
        "plt.xlabel('AveRooms')\n",
        "plt.ylabel('price')"
      ]
    },
    {
      "cell_type": "code",
      "execution_count": null,
      "metadata": {
        "colab": {
          "base_uri": "https://localhost:8080/",
          "height": 466
        },
        "id": "MgbA2QklueHm",
        "outputId": "f3cf0fcc-930c-458d-fb75-4d121d6fe4b7",
        "vscode": {
          "languageId": "python"
        }
      },
      "outputs": [],
      "source": [
        "import seaborn as sns\n",
        "sns.regplot(x=\"AveRooms\",y=\"price\",data=dataset)"
      ]
    },
    {
      "cell_type": "code",
      "execution_count": null,
      "metadata": {
        "id": "DAJxBnO1uhtI",
        "vscode": {
          "languageId": "python"
        }
      },
      "outputs": [],
      "source": [
        "X=dataset.iloc[:,:-1]\n",
        "y =dataset.iloc[:,-1]"
      ]
    },
    {
      "cell_type": "code",
      "execution_count": null,
      "metadata": {
        "colab": {
          "base_uri": "https://localhost:8080/",
          "height": 206
        },
        "id": "YNsvA8yavuvT",
        "outputId": "ff42e315-2f73-4b6d-9b7b-c8e10d9c07bf",
        "vscode": {
          "languageId": "python"
        }
      },
      "outputs": [],
      "source": [
        "X.head()"
      ]
    },
    {
      "cell_type": "code",
      "execution_count": null,
      "metadata": {
        "colab": {
          "base_uri": "https://localhost:8080/"
        },
        "id": "-uvW8ntvvx1O",
        "outputId": "32831c83-99ed-4e47-cea8-346ad2991e61",
        "vscode": {
          "languageId": "python"
        }
      },
      "outputs": [],
      "source": [
        "y.head()"
      ]
    },
    {
      "cell_type": "code",
      "execution_count": null,
      "metadata": {
        "id": "mfFFbFPgvz1e",
        "vscode": {
          "languageId": "python"
        }
      },
      "outputs": [],
      "source": [
        "from sklearn.model_selection import train_test_split\n",
        "X_train,X_test,y_train,y_test = train_test_split(X,y,test_size=0.2,random_state=42)"
      ]
    },
    {
      "cell_type": "code",
      "execution_count": null,
      "metadata": {
        "id": "U9o9eLqs3gBr",
        "vscode": {
          "languageId": "python"
        }
      },
      "outputs": [],
      "source": [
        "from sklearn.preprocessing import StandardScaler\n",
        "scaler=StandardScaler()"
      ]
    },
    {
      "cell_type": "code",
      "execution_count": null,
      "metadata": {
        "id": "AGDrwUjD3ipQ",
        "vscode": {
          "languageId": "python"
        }
      },
      "outputs": [],
      "source": [
        "X_train=scaler.fit_transform(X_train)\n",
        "X_test=scaler.transform(X_test)"
      ]
    },
    {
      "cell_type": "code",
      "execution_count": null,
      "metadata": {
        "colab": {
          "base_uri": "https://localhost:8080/",
          "height": 248
        },
        "id": "hxJEOnWEwBP4",
        "outputId": "c1640bef-19c6-444f-961b-ff1bb3fa98a9",
        "vscode": {
          "languageId": "python"
        }
      },
      "outputs": [],
      "source": [
        "from xgboost import XGBRegressor\n",
        "\n",
        "model = XGBRegressor(n_estimators = 5000, alpha = 10,\n",
        "               learning_rate = 0.1, max_depth = 4, seed= 123)\n",
        "model.fit(X_train, y_train)"
      ]
    },
    {
      "cell_type": "code",
      "execution_count": null,
      "metadata": {
        "colab": {
          "base_uri": "https://localhost:8080/"
        },
        "id": "uduGbKhUxq3H",
        "outputId": "8293691e-ec72-4e49-b76e-4eeb2aa195d0",
        "vscode": {
          "languageId": "python"
        }
      },
      "outputs": [],
      "source": [
        "model.get_params"
      ]
    },
    {
      "cell_type": "code",
      "execution_count": null,
      "metadata": {
        "id": "fY5clMhByeNc",
        "vscode": {
          "languageId": "python"
        }
      },
      "outputs": [],
      "source": [
        "XGB_pred =model.predict(X_test)"
      ]
    },
    {
      "cell_type": "code",
      "execution_count": null,
      "metadata": {
        "colab": {
          "base_uri": "https://localhost:8080/"
        },
        "id": "IzW_7P6Jy02i",
        "outputId": "512fa396-e664-4cb6-ea65-6d39150fc383",
        "vscode": {
          "languageId": "python"
        }
      },
      "outputs": [],
      "source": [
        "XGB_pred"
      ]
    },
    {
      "cell_type": "code",
      "execution_count": null,
      "metadata": {
        "colab": {
          "base_uri": "https://localhost:8080/",
          "height": 447
        },
        "id": "6UWZE6Twy4u2",
        "outputId": "86843a15-c245-4566-a71c-ae4d12597484",
        "vscode": {
          "languageId": "python"
        }
      },
      "outputs": [],
      "source": [
        "plt.scatter(y_test,XGB_pred)"
      ]
    },
    {
      "cell_type": "code",
      "execution_count": null,
      "metadata": {
        "id": "TG5X0dCBzHmC",
        "vscode": {
          "languageId": "python"
        }
      },
      "outputs": [],
      "source": [
        "residuals= y_test-XGB_pred"
      ]
    },
    {
      "cell_type": "code",
      "execution_count": null,
      "metadata": {
        "colab": {
          "base_uri": "https://localhost:8080/",
          "height": 523
        },
        "id": "9B-jmwowzQRX",
        "outputId": "ebee8155-d399-4c7b-936e-d09a8c5ad3b5",
        "vscode": {
          "languageId": "python"
        }
      },
      "outputs": [],
      "source": [
        "sns.displot(residuals,kind=\"kde\")"
      ]
    },
    {
      "cell_type": "code",
      "execution_count": null,
      "metadata": {
        "colab": {
          "base_uri": "https://localhost:8080/",
          "height": 466
        },
        "id": "xeOSul0MzeZ_",
        "outputId": "5fdb952e-db43-485d-d97a-2459bb17a2f0",
        "vscode": {
          "languageId": "python"
        }
      },
      "outputs": [],
      "source": [
        "plt.scatter(XGB_pred,residuals)\n",
        "plt.xlabel(\"pred\")\n",
        "plt.xlabel(\"res\")"
      ]
    },
    {
      "cell_type": "code",
      "execution_count": null,
      "metadata": {
        "id": "_iX-0w5czyw8",
        "vscode": {
          "languageId": "python"
        }
      },
      "outputs": [],
      "source": [
        "from sklearn.metrics import mean_squared_error\n",
        "from sklearn.metrics import mean_absolute_error"
      ]
    },
    {
      "cell_type": "code",
      "execution_count": null,
      "metadata": {
        "colab": {
          "base_uri": "https://localhost:8080/"
        },
        "id": "4IJwyPBKz4VB",
        "outputId": "69b85af9-812a-4eae-ec2a-6c1735165843",
        "vscode": {
          "languageId": "python"
        }
      },
      "outputs": [],
      "source": [
        "print(mean_absolute_error(y_test,XGB_pred))\n",
        "print(mean_squared_error(y_test,XGB_pred))\n",
        "print(np.sqrt(mean_squared_error(y_test,XGB_pred)))"
      ]
    },
    {
      "cell_type": "code",
      "execution_count": null,
      "metadata": {
        "colab": {
          "base_uri": "https://localhost:8080/"
        },
        "id": "i-bPiJbZ0II0",
        "outputId": "f6a07619-003b-4b75-9be3-95962e52a62c",
        "vscode": {
          "languageId": "python"
        }
      },
      "outputs": [],
      "source": [
        "from sklearn.metrics import r2_score\n",
        "score=r2_score(y_test,XGB_pred)\n",
        "print(score)"
      ]
    },
    {
      "cell_type": "code",
      "execution_count": null,
      "metadata": {
        "colab": {
          "base_uri": "https://localhost:8080/"
        },
        "id": "nf7NF7cs1Dzz",
        "outputId": "ed88333b-007f-411c-b7b6-21035d0598d7",
        "vscode": {
          "languageId": "python"
        }
      },
      "outputs": [],
      "source": [
        "1 - (1-score)*(len(y_test)-1)/(len(y_test)-X_test.shape[1]-1)"
      ]
    },
    {
      "cell_type": "code",
      "execution_count": null,
      "metadata": {
        "colab": {
          "base_uri": "https://localhost:8080/"
        },
        "id": "pB6MHKfd1L_h",
        "outputId": "35581aaa-881d-42a8-dca4-97c266da6d53",
        "vscode": {
          "languageId": "python"
        }
      },
      "outputs": [],
      "source": [
        "cali.data[0].reshape(1,-1)"
      ]
    },
    {
      "cell_type": "code",
      "execution_count": null,
      "metadata": {
        "colab": {
          "base_uri": "https://localhost:8080/"
        },
        "id": "q4FihnYk1mHz",
        "outputId": "cda8f7ef-0ca6-4114-ed7b-9ee0fac2a69b",
        "vscode": {
          "languageId": "python"
        }
      },
      "outputs": [],
      "source": [
        "scaler.transform(cali.data[0].reshape(1,-1))"
      ]
    },
    {
      "cell_type": "code",
      "execution_count": null,
      "metadata": {
        "colab": {
          "base_uri": "https://localhost:8080/"
        },
        "id": "LZkWr0wi2PE8",
        "outputId": "f2db32cc-66cc-43f1-c593-a0c086bd6e6e",
        "vscode": {
          "languageId": "python"
        }
      },
      "outputs": [],
      "source": [
        "model.predict(scaler.transform(cali.data[0].reshape(1,-1)))"
      ]
    },
    {
      "cell_type": "code",
      "execution_count": null,
      "metadata": {
        "id": "ooFg4VFZ3p_y",
        "vscode": {
          "languageId": "python"
        }
      },
      "outputs": [],
      "source": [
        "import pickle\n",
        "pickle.dump(model,open('XGBmodel.pkl','wb'))"
      ]
    },
    {
      "cell_type": "code",
      "execution_count": null,
      "metadata": {
        "id": "7pVIXJnQ4ojy",
        "vscode": {
          "languageId": "python"
        }
      },
      "outputs": [],
      "source": [
        "pickled_model=pickle.load(open('XGBmodel.pkl','rb'))"
      ]
    },
    {
      "cell_type": "code",
      "execution_count": null,
      "metadata": {
        "colab": {
          "base_uri": "https://localhost:8080/"
        },
        "id": "i3xXp7BK45OJ",
        "outputId": "313c4498-9790-421a-d8ea-f2032bbbda46",
        "vscode": {
          "languageId": "python"
        }
      },
      "outputs": [],
      "source": [
        "pickled_model.predict(scaler.transform(cali.data[0].reshape(1,-1)))"
      ]
    }
  ],
  "metadata": {
    "colab": {
      "provenance": []
    },
    "kernelspec": {
      "display_name": "Xonsh",
      "language": "xonsh",
      "name": "xonsh"
    },
    "language_info": {
      "name": "xonsh"
    }
  },
  "nbformat": 4,
  "nbformat_minor": 0
}
